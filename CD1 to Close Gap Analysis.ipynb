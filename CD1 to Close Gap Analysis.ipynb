{
 "cells": [
  {
   "cell_type": "code",
   "execution_count": 1,
   "metadata": {
    "collapsed": true
   },
   "outputs": [],
   "source": [
    "import pandas as pd"
   ]
  },
  {
   "cell_type": "code",
   "execution_count": 2,
   "metadata": {
    "collapsed": true
   },
   "outputs": [],
   "source": [
    "import matplotlib as plt\n",
    "%matplotlib inline"
   ]
  },
  {
   "cell_type": "code",
   "execution_count": 3,
   "metadata": {
    "collapsed": true
   },
   "outputs": [],
   "source": [
    "df = pd.read_csv('CloseGap.csv')"
   ]
  },
  {
   "cell_type": "code",
   "execution_count": 4,
   "metadata": {
    "collapsed": false
   },
   "outputs": [
    {
     "data": {
      "text/html": [
       "<div>\n",
       "<table border=\"1\" class=\"dataframe\">\n",
       "  <thead>\n",
       "    <tr style=\"text-align: right;\">\n",
       "      <th></th>\n",
       "      <th>Job Nbr</th>\n",
       "      <th>Program</th>\n",
       "      <th>CD1</th>\n",
       "      <th>5. Close Actual Start</th>\n",
       "      <th>Gap</th>\n",
       "      <th>5.91. Project Close Out Submitted to JLL PMO Actual Start</th>\n",
       "    </tr>\n",
       "  </thead>\n",
       "  <tbody>\n",
       "    <tr>\n",
       "      <th>0</th>\n",
       "      <td>00063P161020</td>\n",
       "      <td>Maintenance Program</td>\n",
       "      <td>12/29/2016</td>\n",
       "      <td>12/29/2016</td>\n",
       "      <td>0.0</td>\n",
       "      <td>3/2/2017</td>\n",
       "    </tr>\n",
       "    <tr>\n",
       "      <th>1</th>\n",
       "      <td>00063P161083</td>\n",
       "      <td>Maintenance Program</td>\n",
       "      <td>10/19/2016</td>\n",
       "      <td>1/10/2017</td>\n",
       "      <td>83.0</td>\n",
       "      <td>1/16/2017</td>\n",
       "    </tr>\n",
       "    <tr>\n",
       "      <th>2</th>\n",
       "      <td>00063P153083</td>\n",
       "      <td>ATM Program</td>\n",
       "      <td>5/9/2016</td>\n",
       "      <td>5/9/2016</td>\n",
       "      <td>0.0</td>\n",
       "      <td>3/15/2017</td>\n",
       "    </tr>\n",
       "    <tr>\n",
       "      <th>3</th>\n",
       "      <td>00063P152059</td>\n",
       "      <td>ATM Program</td>\n",
       "      <td>4/20/2016</td>\n",
       "      <td>5/21/2016</td>\n",
       "      <td>31.0</td>\n",
       "      <td>3/27/2017</td>\n",
       "    </tr>\n",
       "    <tr>\n",
       "      <th>4</th>\n",
       "      <td>00063P161105</td>\n",
       "      <td>Maintenance Program</td>\n",
       "      <td>3/3/2017</td>\n",
       "      <td>3/3/2017</td>\n",
       "      <td>0.0</td>\n",
       "      <td>3/16/2017</td>\n",
       "    </tr>\n",
       "  </tbody>\n",
       "</table>\n",
       "</div>"
      ],
      "text/plain": [
       "        Job Nbr              Program         CD1 5. Close Actual Start   Gap  \\\n",
       "0  00063P161020  Maintenance Program  12/29/2016            12/29/2016   0.0   \n",
       "1  00063P161083  Maintenance Program  10/19/2016             1/10/2017  83.0   \n",
       "2  00063P153083          ATM Program    5/9/2016              5/9/2016   0.0   \n",
       "3  00063P152059          ATM Program   4/20/2016             5/21/2016  31.0   \n",
       "4  00063P161105  Maintenance Program    3/3/2017              3/3/2017   0.0   \n",
       "\n",
       "  5.91. Project Close Out Submitted to JLL PMO Actual Start  \n",
       "0                                           3/2/2017         \n",
       "1                                          1/16/2017         \n",
       "2                                          3/15/2017         \n",
       "3                                          3/27/2017         \n",
       "4                                          3/16/2017         "
      ]
     },
     "execution_count": 4,
     "metadata": {},
     "output_type": "execute_result"
    }
   ],
   "source": [
    "df.head()"
   ]
  },
  {
   "cell_type": "markdown",
   "metadata": {},
   "source": [
    "## Overall Average of Close Days\n",
    "**24 Days on average between CD1 and 5. Close Start Date.**"
   ]
  },
  {
   "cell_type": "code",
   "execution_count": 9,
   "metadata": {
    "collapsed": false
   },
   "outputs": [
    {
     "data": {
      "text/plain": [
       "24.554621848739497"
      ]
     },
     "execution_count": 9,
     "metadata": {},
     "output_type": "execute_result"
    }
   ],
   "source": [
    "df['Gap'].mean()"
   ]
  },
  {
   "cell_type": "markdown",
   "metadata": {},
   "source": [
    "### Average Days by Program"
   ]
  },
  {
   "cell_type": "code",
   "execution_count": 10,
   "metadata": {
    "collapsed": false
   },
   "outputs": [
    {
     "data": {
      "text/html": [
       "<div>\n",
       "<table border=\"1\" class=\"dataframe\">\n",
       "  <thead>\n",
       "    <tr style=\"text-align: right;\">\n",
       "      <th></th>\n",
       "      <th>Gap</th>\n",
       "    </tr>\n",
       "    <tr>\n",
       "      <th>Program</th>\n",
       "      <th></th>\n",
       "    </tr>\n",
       "  </thead>\n",
       "  <tbody>\n",
       "    <tr>\n",
       "      <th>ATM Program</th>\n",
       "      <td>30.437500</td>\n",
       "    </tr>\n",
       "    <tr>\n",
       "      <th>Maintenance Program</th>\n",
       "      <td>12.821429</td>\n",
       "    </tr>\n",
       "    <tr>\n",
       "      <th>New Build Program</th>\n",
       "      <td>0.000000</td>\n",
       "    </tr>\n",
       "    <tr>\n",
       "      <th>Renovations Program</th>\n",
       "      <td>68.153846</td>\n",
       "    </tr>\n",
       "    <tr>\n",
       "      <th>Strategic Projects Program</th>\n",
       "      <td>10.578947</td>\n",
       "    </tr>\n",
       "  </tbody>\n",
       "</table>\n",
       "</div>"
      ],
      "text/plain": [
       "                                  Gap\n",
       "Program                              \n",
       "ATM Program                 30.437500\n",
       "Maintenance Program         12.821429\n",
       "New Build Program            0.000000\n",
       "Renovations Program         68.153846\n",
       "Strategic Projects Program  10.578947"
      ]
     },
     "execution_count": 10,
     "metadata": {},
     "output_type": "execute_result"
    }
   ],
   "source": [
    "df.groupby('Program').mean()"
   ]
  },
  {
   "cell_type": "markdown",
   "metadata": {},
   "source": [
    "**New Build never has this issue, but ATM and Renovations appear to have more significant gaps.**"
   ]
  },
  {
   "cell_type": "code",
   "execution_count": 12,
   "metadata": {
    "collapsed": false
   },
   "outputs": [],
   "source": [
    "df2 = pd.read_csv('pm.csv')"
   ]
  },
  {
   "cell_type": "code",
   "execution_count": 14,
   "metadata": {
    "collapsed": false
   },
   "outputs": [],
   "source": [
    "data = pd.merge(df, df2, how='left', on=['Job Nbr', 'Job Nbr'])"
   ]
  },
  {
   "cell_type": "code",
   "execution_count": 15,
   "metadata": {
    "collapsed": false
   },
   "outputs": [
    {
     "data": {
      "text/html": [
       "<div>\n",
       "<table border=\"1\" class=\"dataframe\">\n",
       "  <thead>\n",
       "    <tr style=\"text-align: right;\">\n",
       "      <th></th>\n",
       "      <th>Job Nbr</th>\n",
       "      <th>Program</th>\n",
       "      <th>CD1</th>\n",
       "      <th>5. Close Actual Start</th>\n",
       "      <th>Gap</th>\n",
       "      <th>5.91. Project Close Out Submitted to JLL PMO Actual Start</th>\n",
       "      <th>Project Manager</th>\n",
       "    </tr>\n",
       "  </thead>\n",
       "  <tbody>\n",
       "    <tr>\n",
       "      <th>0</th>\n",
       "      <td>00063P161020</td>\n",
       "      <td>Maintenance Program</td>\n",
       "      <td>12/29/2016</td>\n",
       "      <td>12/29/2016</td>\n",
       "      <td>0.0</td>\n",
       "      <td>3/2/2017</td>\n",
       "      <td>Alicia Schaefer</td>\n",
       "    </tr>\n",
       "    <tr>\n",
       "      <th>1</th>\n",
       "      <td>00063P161083</td>\n",
       "      <td>Maintenance Program</td>\n",
       "      <td>10/19/2016</td>\n",
       "      <td>1/10/2017</td>\n",
       "      <td>83.0</td>\n",
       "      <td>1/16/2017</td>\n",
       "      <td>Paul LeMaire</td>\n",
       "    </tr>\n",
       "    <tr>\n",
       "      <th>2</th>\n",
       "      <td>00063P153083</td>\n",
       "      <td>ATM Program</td>\n",
       "      <td>5/9/2016</td>\n",
       "      <td>5/9/2016</td>\n",
       "      <td>0.0</td>\n",
       "      <td>3/15/2017</td>\n",
       "      <td>Joe Humbach</td>\n",
       "    </tr>\n",
       "    <tr>\n",
       "      <th>3</th>\n",
       "      <td>00063P152059</td>\n",
       "      <td>ATM Program</td>\n",
       "      <td>4/20/2016</td>\n",
       "      <td>5/21/2016</td>\n",
       "      <td>31.0</td>\n",
       "      <td>3/27/2017</td>\n",
       "      <td>Elaine Pizanis</td>\n",
       "    </tr>\n",
       "    <tr>\n",
       "      <th>4</th>\n",
       "      <td>00063P161105</td>\n",
       "      <td>Maintenance Program</td>\n",
       "      <td>3/3/2017</td>\n",
       "      <td>3/3/2017</td>\n",
       "      <td>0.0</td>\n",
       "      <td>3/16/2017</td>\n",
       "      <td>Alicia Schaefer</td>\n",
       "    </tr>\n",
       "  </tbody>\n",
       "</table>\n",
       "</div>"
      ],
      "text/plain": [
       "        Job Nbr              Program         CD1 5. Close Actual Start   Gap  \\\n",
       "0  00063P161020  Maintenance Program  12/29/2016            12/29/2016   0.0   \n",
       "1  00063P161083  Maintenance Program  10/19/2016             1/10/2017  83.0   \n",
       "2  00063P153083          ATM Program    5/9/2016              5/9/2016   0.0   \n",
       "3  00063P152059          ATM Program   4/20/2016             5/21/2016  31.0   \n",
       "4  00063P161105  Maintenance Program    3/3/2017              3/3/2017   0.0   \n",
       "\n",
       "  5.91. Project Close Out Submitted to JLL PMO Actual Start  Project Manager  \n",
       "0                                           3/2/2017         Alicia Schaefer  \n",
       "1                                          1/16/2017            Paul LeMaire  \n",
       "2                                          3/15/2017             Joe Humbach  \n",
       "3                                          3/27/2017          Elaine Pizanis  \n",
       "4                                          3/16/2017         Alicia Schaefer  "
      ]
     },
     "execution_count": 15,
     "metadata": {},
     "output_type": "execute_result"
    }
   ],
   "source": [
    "data.head()"
   ]
  },
  {
   "cell_type": "markdown",
   "metadata": {},
   "source": [
    "### Average Gap Days by Project Manager"
   ]
  },
  {
   "cell_type": "code",
   "execution_count": 38,
   "metadata": {
    "collapsed": false
   },
   "outputs": [],
   "source": [
    "new = data.groupby('Project Manager').mean()\n",
    "new.head()\n",
    "new = new.sort_values('Gap', ascending=False)"
   ]
  },
  {
   "cell_type": "code",
   "execution_count": 39,
   "metadata": {
    "collapsed": false
   },
   "outputs": [
    {
     "data": {
      "text/html": [
       "<div>\n",
       "<table border=\"1\" class=\"dataframe\">\n",
       "  <thead>\n",
       "    <tr style=\"text-align: right;\">\n",
       "      <th></th>\n",
       "      <th>Gap</th>\n",
       "    </tr>\n",
       "    <tr>\n",
       "      <th>Project Manager</th>\n",
       "      <th></th>\n",
       "    </tr>\n",
       "  </thead>\n",
       "  <tbody>\n",
       "    <tr>\n",
       "      <th>Jenna Van Rassel</th>\n",
       "      <td>343.000000</td>\n",
       "    </tr>\n",
       "    <tr>\n",
       "      <th>Jeffrey Csoka</th>\n",
       "      <td>217.000000</td>\n",
       "    </tr>\n",
       "    <tr>\n",
       "      <th>Jeffrey Csoka</th>\n",
       "      <td>185.000000</td>\n",
       "    </tr>\n",
       "    <tr>\n",
       "      <th>Lori Brown</th>\n",
       "      <td>81.142857</td>\n",
       "    </tr>\n",
       "    <tr>\n",
       "      <th>Adrian John</th>\n",
       "      <td>70.000000</td>\n",
       "    </tr>\n",
       "    <tr>\n",
       "      <th>Jeannie Radosta</th>\n",
       "      <td>50.583333</td>\n",
       "    </tr>\n",
       "    <tr>\n",
       "      <th>Kim Dorsey</th>\n",
       "      <td>50.000000</td>\n",
       "    </tr>\n",
       "    <tr>\n",
       "      <th>Paul LeMaire</th>\n",
       "      <td>47.631579</td>\n",
       "    </tr>\n",
       "    <tr>\n",
       "      <th>Lauren Gordon</th>\n",
       "      <td>41.400000</td>\n",
       "    </tr>\n",
       "    <tr>\n",
       "      <th>Donald Howard</th>\n",
       "      <td>33.000000</td>\n",
       "    </tr>\n",
       "    <tr>\n",
       "      <th>Donald Howard</th>\n",
       "      <td>33.000000</td>\n",
       "    </tr>\n",
       "    <tr>\n",
       "      <th>Joe Humbach</th>\n",
       "      <td>22.218750</td>\n",
       "    </tr>\n",
       "    <tr>\n",
       "      <th>Andrew Cozier</th>\n",
       "      <td>16.666667</td>\n",
       "    </tr>\n",
       "    <tr>\n",
       "      <th>Kelli Karr</th>\n",
       "      <td>14.333333</td>\n",
       "    </tr>\n",
       "    <tr>\n",
       "      <th>James Dyer</th>\n",
       "      <td>13.583333</td>\n",
       "    </tr>\n",
       "    <tr>\n",
       "      <th>Elaine Pizanis</th>\n",
       "      <td>10.760000</td>\n",
       "    </tr>\n",
       "    <tr>\n",
       "      <th>Brian Kleinsmith</th>\n",
       "      <td>5.333333</td>\n",
       "    </tr>\n",
       "    <tr>\n",
       "      <th>Heather Tovar</th>\n",
       "      <td>3.772727</td>\n",
       "    </tr>\n",
       "    <tr>\n",
       "      <th>Michael Welsh</th>\n",
       "      <td>0.000000</td>\n",
       "    </tr>\n",
       "    <tr>\n",
       "      <th>Alicia Schaefer</th>\n",
       "      <td>-0.050000</td>\n",
       "    </tr>\n",
       "    <tr>\n",
       "      <th>Ruth Newell</th>\n",
       "      <td>NaN</td>\n",
       "    </tr>\n",
       "  </tbody>\n",
       "</table>\n",
       "</div>"
      ],
      "text/plain": [
       "                         Gap\n",
       "Project Manager             \n",
       "Jenna Van Rassel  343.000000\n",
       "Jeffrey Csoka     217.000000\n",
       "Jeffrey Csoka     185.000000\n",
       "Lori Brown         81.142857\n",
       "Adrian John        70.000000\n",
       "Jeannie Radosta    50.583333\n",
       "Kim Dorsey         50.000000\n",
       "Paul LeMaire       47.631579\n",
       "Lauren Gordon      41.400000\n",
       "Donald Howard      33.000000\n",
       "Donald Howard      33.000000\n",
       "Joe Humbach        22.218750\n",
       "Andrew Cozier      16.666667\n",
       "Kelli Karr         14.333333\n",
       "James Dyer         13.583333\n",
       "Elaine Pizanis     10.760000\n",
       "Brian Kleinsmith    5.333333\n",
       "Heather Tovar       3.772727\n",
       "Michael Welsh       0.000000\n",
       "Alicia Schaefer    -0.050000\n",
       "Ruth Newell              NaN"
      ]
     },
     "execution_count": 39,
     "metadata": {},
     "output_type": "execute_result"
    }
   ],
   "source": [
    "new"
   ]
  },
  {
   "cell_type": "code",
   "execution_count": null,
   "metadata": {
    "collapsed": true
   },
   "outputs": [],
   "source": []
  }
 ],
 "metadata": {
  "kernelspec": {
   "display_name": "Python 3",
   "language": "python",
   "name": "python3"
  },
  "language_info": {
   "codemirror_mode": {
    "name": "ipython",
    "version": 3
   },
   "file_extension": ".py",
   "mimetype": "text/x-python",
   "name": "python",
   "nbconvert_exporter": "python",
   "pygments_lexer": "ipython3",
   "version": "3.6.0"
  }
 },
 "nbformat": 4,
 "nbformat_minor": 2
}
